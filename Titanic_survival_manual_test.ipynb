{
  "nbformat": 4,
  "nbformat_minor": 0,
  "metadata": {
    "colab": {
      "provenance": [],
      "authorship_tag": "ABX9TyPcD+8rp2wdd6sqIcxs4Zqr",
      "include_colab_link": true
    },
    "kernelspec": {
      "name": "python3",
      "display_name": "Python 3"
    },
    "language_info": {
      "name": "python"
    }
  },
  "cells": [
    {
      "cell_type": "markdown",
      "metadata": {
        "id": "view-in-github",
        "colab_type": "text"
      },
      "source": [
        "<a href=\"https://colab.research.google.com/github/Lakshayakanna123/datascience_and_algorithms/blob/main/Titanic_survival_manual_test.ipynb\" target=\"_parent\"><img src=\"https://colab.research.google.com/assets/colab-badge.svg\" alt=\"Open In Colab\"/></a>"
      ]
    },
    {
      "cell_type": "code",
      "execution_count": null,
      "metadata": {
        "id": "TrIObJBm26u8"
      },
      "outputs": [],
      "source": [
        "import pandas as pd\n",
        "import matplotlib.pyplot as plt\n",
        "from google.colab import files\n",
        "from sklearn.model_selection import train_test_split\n",
        "from sklearn.metrics import accuracy_score"
      ]
    },
    {
      "cell_type": "code",
      "source": [
        "import pandas as pd\n",
        "\n",
        "def output_label(n):\n",
        "    if n == 0:\n",
        "        return \"Did Not Survive\"\n",
        "    elif n == 1:\n",
        "        return \"Survived\"\n",
        "\n",
        "def manual_testing(features):\n",
        "    # Convert input features into a DataFrame\n",
        "    test_data = pd.DataFrame([features])\n",
        "\n",
        "    # Assuming the models were trained on specific feature columns\n",
        "    # Adjust 'feature_columns' to match the columns used during training\n",
        "    feature_columns = ['Pclass', 'Sex', 'Age', 'SibSp', 'Parch', 'Fare', 'Embarked']\n",
        "    X_test = test_data[feature_columns]\n",
        "\n",
        "    # Make predictions with each model\n",
        "    pred_nb = nb_model.predict(X_test)\n",
        "    pred_lr = lr_model.predict(X_test)\n",
        "    pred_dt = dt_model.predict(X_test)\n",
        "\n",
        "    return print(\"\\n\\nNaive Bayes Prediction: {} \\nLogistic Regression Prediction: {} \\nDecision Tree Prediction: {}\".format(\n",
        "        output_label(pred_nb[0]),\n",
        "        output_label(pred_lr[0]),\n",
        "        output_label(pred_dt[0])\n",
        "    ))\n",
        "\n",
        "# Example usage:\n",
        "# features = {'Pclass': 3, 'Sex': 'male', 'Age': 22.0, 'SibSp': 1, 'Parch': 0, 'Fare': 7.25, 'Embarked': 'S'}\n",
        "# manual_testing(features)\n"
      ],
      "metadata": {
        "id": "HEnA6sc9oY1S"
      },
      "execution_count": null,
      "outputs": []
    }
  ]
}