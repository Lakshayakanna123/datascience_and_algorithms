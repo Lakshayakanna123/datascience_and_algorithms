{
  "cells": [
    {
      "cell_type": "markdown",
      "metadata": {
        "id": "view-in-github",
        "colab_type": "text"
      },
      "source": [
        "<a href=\"https://colab.research.google.com/github/Lakshayakanna123/datascience_and_algorithms/blob/main/dataclean.ipynb\" target=\"_parent\"><img src=\"https://colab.research.google.com/assets/colab-badge.svg\" alt=\"Open In Colab\"/></a>"
      ]
    },
    {
      "cell_type": "code",
      "execution_count": null,
      "metadata": {
        "colab": {
          "background_save": true
        },
        "id": "JTyVRKS_KDCL"
      },
      "outputs": [],
      "source": [
        "import numpy as np\n",
        "import matplotlib.pyplot as plt\n",
        "import pandas as pd\n",
        "import seaborn as sns\n",
        "%matplotlib inline"
      ]
    },
    {
      "cell_type": "code",
      "execution_count": null,
      "metadata": {
        "colab": {
          "background_save": true
        },
        "id": "cUEyYPxMOBDp"
      },
      "outputs": [],
      "source": [
        "from google.colab import files\n",
        "\n",
        "uploaded = files.upload()"
      ]
    },
    {
      "cell_type": "code",
      "execution_count": null,
      "metadata": {
        "colab": {
          "background_save": true
        },
        "id": "eMOfY3R2OEgO"
      },
      "outputs": [],
      "source": [
        "data = pd.read_csv('social media influencers - instagram.csv')\n",
        "X= data.iloc[:,:-1].values\n",
        "Y= data.iloc[:,1].values\n",
        "data"
      ]
    },
    {
      "cell_type": "code",
      "execution_count": null,
      "metadata": {
        "colab": {
          "background_save": true
        },
        "id": "M3pNy9ZkO0Ba"
      },
      "outputs": [],
      "source": [
        "new_df = data[[\"category_1\",\"category_2\", \"Followers\", \"Audience country(mostly)\",\"Authentic engagement\\r\\n\"]]\n",
        "new_df"
      ]
    },
    {
      "cell_type": "code",
      "execution_count": null,
      "metadata": {
        "colab": {
          "background_save": true
        },
        "id": "W688ToWiWpmd"
      },
      "outputs": [],
      "source": [
        "print(new_df.isna().sum())"
      ]
    },
    {
      "cell_type": "code",
      "execution_count": null,
      "metadata": {
        "colab": {
          "background_save": true
        },
        "id": "I28fD_KQZPhq"
      },
      "outputs": [],
      "source": [
        "import pandas as pd\n",
        "import re\n",
        "\n",
        "# Function to convert alphanumeric follower counts to numeric\n",
        "def convert_followers(follower):\n",
        "    if isinstance(follower, str):\n",
        "        multiplier = 1\n",
        "        if 'k' in follower.lower():\n",
        "            multiplier = 1_000\n",
        "        elif 'm' in follower.lower():\n",
        "            multiplier = 1_000_000\n",
        "        elif 'b' in follower.lower():\n",
        "            multiplier = 1_000_000_000\n",
        "        number = float(re.sub('[^0-9.]', '', follower))\n",
        "        return number * multiplier\n",
        "    return follower\n",
        "\n",
        "new_df['category_1'].fillna('Unknown', inplace=True)\n",
        "new_df['category_2'].fillna('Unknown', inplace=True)\n",
        "new_df['Audience country(mostly)'].fillna('Unknown', inplace=True)\n",
        "\n",
        "print(\"NaN values in each column after filling:\")\n",
        "print(new_df.isna().sum())\n",
        "\n",
        "new_df['Followers'] = new_df['Followers'].apply(convert_followers)\n",
        "\n",
        "new_df['Followers'] = pd.to_numeric(new_df['Followers'], errors='coerce')\n",
        "new_df['Followers'].fillna(0, inplace=True)\n",
        "\n",
        "print(\"NaN values in 'Followers' column after filling:\")\n",
        "print(new_df['Followers'].isna().sum())\n",
        "\n",
        "max_followed_category = new_df.loc[new_df['Followers'].idxmax()]"
      ]
    },
    {
      "cell_type": "code",
      "execution_count": null,
      "metadata": {
        "colab": {
          "background_save": true
        },
        "id": "7Qh1uxHNU4gR"
      },
      "outputs": [],
      "source": [
        "max_followed_category"
      ]
    },
    {
      "cell_type": "code",
      "execution_count": null,
      "metadata": {
        "colab": {
          "background_save": true
        },
        "id": "J_45ctkpZgY8"
      },
      "outputs": [],
      "source": [
        "df = pd.DataFrame(data)\n",
        "\n",
        "# Function to convert followers\n",
        "def convert_followers(follower):\n",
        "    if isinstance(follower, str):\n",
        "        multiplier = 1\n",
        "        if 'k' in follower.lower():\n",
        "            multiplier = 1_000\n",
        "        elif 'm' in follower.lower():\n",
        "            multiplier = 1_000_000\n",
        "        elif 'b' in follower.lower():\n",
        "            multiplier = 1_000_000_000\n",
        "        number = float(re.sub('[^0-9.]', '', follower))\n",
        "        return number * multiplier\n",
        "    return follower\n",
        "\n",
        "# Apply the function to the followers column\n",
        "df['Followers'] = df['Followers'].apply(convert_followers)\n",
        "df['Authentic engagement\\r\\n'] = df['Authentic engagement\\r\\n'].apply(convert_followers)\n",
        "df['category_1'].fillna('Unknown', inplace=True)\n",
        "df['category_2'].fillna('Unknown', inplace=True)\n",
        "df['Audience country(mostly)'].fillna('Unknown', inplace=True)\n",
        "\n",
        "\n",
        "# Save the cleaned dataset to a new CSV file\n",
        "df.to_csv('cleaned_dataset.csv', index=False)\n",
        "\n",
        "print(\"Cleaned dataset saved to 'cleaned_dataset.csv'\")"
      ]
    },
    {
      "cell_type": "code",
      "execution_count": null,
      "metadata": {
        "colab": {
          "background_save": true
        },
        "id": "Yc3F76pfaItf"
      },
      "outputs": [],
      "source": [
        "data = pd.read_csv('cleaned_dataset.csv')\n",
        "X= data.iloc[:,:-1].values\n",
        "Y= data.iloc[:,1].values\n",
        "data"
      ]
    },
    {
      "cell_type": "code",
      "execution_count": null,
      "metadata": {
        "colab": {
          "background_save": true
        },
        "id": "n927EDE4zDjb"
      },
      "outputs": [],
      "source": [
        "print(data.isna().sum())"
      ]
    },
    {
      "cell_type": "code",
      "execution_count": null,
      "metadata": {
        "colab": {
          "background_save": true
        },
        "id": "PArsVmdBb0L4"
      },
      "outputs": [],
      "source": [
        "plt.figure(figsize=(10, 6))\n",
        "\n",
        "top_5_categories = data.sort_values(by='Followers', ascending=False).groupby('category_1').head(5)\n",
        "\n",
        "sns.barplot(x='category_1', y='Followers', data=top_5_categories)\n",
        "plt.title('Followers by Category1 (Top 5)')\n",
        "plt.xlabel('Category1')\n",
        "plt.ylabel('Followers')\n",
        "plt.show()"
      ]
    },
    {
      "cell_type": "code",
      "execution_count": null,
      "metadata": {
        "colab": {
          "background_save": true
        },
        "id": "9N6GxC4eb1vZ"
      },
      "outputs": [],
      "source": [
        "plt.figure(figsize=(10, 6))\n",
        "\n",
        "# Sort the data by 'Followers' in descending order, group by 'category_2', and take the top 5\n",
        "top_5_categories = data.sort_values(by='Followers', ascending=False).groupby('category_2').head(5)\n",
        "\n",
        "sns.barplot(x='category_2', y='Followers', data=top_5_categories)\n",
        "plt.title('Followers by Category2 (Top 5)')\n",
        "plt.xlabel('Category2')\n",
        "plt.ylabel('Followers')\n",
        "plt.show()"
      ]
    },
    {
      "cell_type": "code",
      "execution_count": null,
      "metadata": {
        "colab": {
          "background_save": true
        },
        "id": "eAcvtiwLcEE7"
      },
      "outputs": [],
      "source": [
        "plt.figure(figsize=(10, 6))\n",
        "\n",
        "# Sort the data by 'Followers' in descending order and take the top 5\n",
        "top_5_places = data.sort_values(by='Followers', ascending=False).head(5)\n",
        "\n",
        "sns.barplot(x='Audience country(mostly)', y='Followers', data=top_5_places)\n",
        "plt.title('Followers by Place (Top 5)')\n",
        "plt.xlabel('Place')\n",
        "plt.ylabel('Followers')\n",
        "plt.show()"
      ]
    },
    {
      "cell_type": "code",
      "execution_count": null,
      "metadata": {
        "colab": {
          "background_save": true
        },
        "id": "jZjIkAP2h7B7"
      },
      "outputs": [],
      "source": [
        "filtered_data = data[data['category_1'] != 'Unknown']\n",
        "\n",
        "category1_followers = filtered_data.groupby('category_1')['Followers'].sum()\n",
        "\n",
        "top_category1 = category1_followers.nlargest(5)\n",
        "\n",
        "plt.figure(figsize=(8, 8))\n",
        "plt.pie(top_category1, labels=top_category1.index, autopct='%1.1f%%', startangle=140)\n",
        "plt.title('Top Categories 1 by Followers (Pie Chart)')\n",
        "plt.axis('equal')\n",
        "plt.show()"
      ]
    },
    {
      "cell_type": "code",
      "execution_count": null,
      "metadata": {
        "colab": {
          "background_save": true
        },
        "id": "BGc2cV38gFgJ"
      },
      "outputs": [],
      "source": [
        "filtered_data = data[data['category_2'] != 'Unknown']\n",
        "category2_followers = filtered_data.groupby('category_2')['Followers'].sum()\n",
        "top_category2 = category2_followers.nlargest(5)\n",
        "plt.figure(figsize=(8, 8))\n",
        "plt.pie(top_category2, labels=top_category2.index, autopct='%1.1f%%', startangle=140)\n",
        "plt.title('Top Categories 2 by Followers (Pie Chart)')\n",
        "plt.axis('equal')\n",
        "plt.show()"
      ]
    },
    {
      "cell_type": "code",
      "execution_count": null,
      "metadata": {
        "colab": {
          "background_save": true
        },
        "id": "kUjvzILogJAW"
      },
      "outputs": [],
      "source": [
        "places_followers = data.groupby('Audience country(mostly)')['Followers'].sum()\n",
        "top_places = places_followers.nlargest(5)\n",
        "plt.figure(figsize=(8, 8))\n",
        "plt.pie(top_places, labels=top_places.index, autopct='%1.1f%%', startangle=140)\n",
        "plt.title('Top Places by Followers (Pie Chart)')\n",
        "plt.axis('equal')\n",
        "plt.show()\n"
      ]
    },
    {
      "cell_type": "code",
      "execution_count": null,
      "metadata": {
        "colab": {
          "background_save": true
        },
        "id": "iSMROE7fkWj9"
      },
      "outputs": [],
      "source": [
        "print(data.columns)\n",
        "places_followers = data.groupby(['category_1', 'Audience country(mostly)'])['Followers'].sum()\n",
        "top_places = places_followers.nlargest(5)\n",
        "plt.figure(figsize=(8, 8))\n",
        "plt.pie(top_places, labels=top_places.index, autopct='%1.1f%%', startangle=140)\n",
        "plt.title('Top Places by Followers (Pie Chart)')\n",
        "plt.axis('equal')\n",
        "plt.show()\n",
        "print(type(pd.core.groupby.groupby))"
      ]
    },
    {
      "cell_type": "code",
      "execution_count": null,
      "metadata": {
        "colab": {
          "background_save": true
        },
        "id": "tTC9AGiHiQQk"
      },
      "outputs": [],
      "source": [
        "data['category_1'].replace({'Unknown': pd.NA}, inplace=True)\n",
        "data['category_2'].replace({'Unknown': pd.NA}, inplace=True)\n",
        "data['Audience country(mostly)'].replace({'Unknown': pd.NA}, inplace=True)  # Replace with the actual column name\n",
        "filtered_data = data.dropna(subset=['category_1', 'category_2', 'Audience country(mostly)'])\n",
        "category1_followers = filtered_data.groupby('category_1')['Followers'].sum()\n",
        "category2_followers = filtered_data.groupby('category_2')['Followers'].sum()\n",
        "places_followers = filtered_data.groupby('Audience country(mostly)')['Followers'].sum()\n",
        "top_category1 = category1_followers.nlargest(5)\n",
        "top_category2 = category2_followers.nlargest(5)\n",
        "top_places = places_followers.nlargest(5)\n",
        "\n",
        "labels = ['Category 1: ' + c for c in top_category1.index] + \\\n",
        "         ['Category 2: ' + c for c in top_category2.index] + \\\n",
        "         ['Places: ' + p for p in top_places.index]\n",
        "sizes = list(top_category1.values) + list(top_category2.values) + list(top_places.values)\n",
        "\n",
        "plt.figure(figsize=(10, 10))\n",
        "plt.pie(sizes, labels=labels, autopct='%1.1f%%', startangle=140)\n",
        "plt.title('Top Categories and Places by Followers (Combined Pie Chart)')\n",
        "plt.axis('equal')\n",
        "plt.show()"
      ]
    },
    {
      "cell_type": "code",
      "execution_count": null,
      "metadata": {
        "colab": {
          "background_save": true
        },
        "id": "SrNtGbpSsEiJ"
      },
      "outputs": [],
      "source": [
        "import pandas as pd\n",
        "import numpy as np\n",
        "from sklearn.linear_model import LinearRegression\n",
        "import matplotlib.pyplot as plt\n",
        "\n",
        "# Assuming 'data' is your DataFrame\n",
        "X = data['Authentic engagement\\r\\n'].values.reshape(-1, 1)\n",
        "y = data['Followers'].values\n",
        "\n",
        "# Handle missing values in 'Followers' (y) before splitting\n",
        "y = np.nan_to_num(y) # Replace NaN with 0, you might need a different strategy depending on your data\n",
        "\n",
        "from sklearn.model_selection import train_test_split\n",
        "X_train, X_test, Y_train, Y_test = train_test_split(X, y, test_size=1/3, random_state=0)\n",
        "\n",
        "from sklearn.linear_model import LinearRegression\n",
        "lr = LinearRegression()\n",
        "lr.fit(X_train, Y_train) # This should now work without error"
      ]
    },
    {
      "cell_type": "code",
      "execution_count": null,
      "metadata": {
        "colab": {
          "background_save": true
        },
        "id": "WikJOp2DzkjL"
      },
      "outputs": [],
      "source": [
        "plt.scatter(X_train, Y_train, color =\"green\")\n",
        "plt.plot(X_train, lr.predict(X_train), color='orange')\n",
        "plt.title('Score ~ Hour (train set)')\n",
        "plt.xlabel('hours studied')\n",
        "plt.ylabel('Score')\n",
        "plt.show()"
      ]
    },
    {
      "cell_type": "code",
      "execution_count": null,
      "metadata": {
        "colab": {
          "background_save": true
        },
        "id": "GRtuiD8GzuA6"
      },
      "outputs": [],
      "source": [
        "import pandas as pd\n",
        "import numpy as np\n",
        "from sklearn.linear_model import LinearRegression\n",
        "import matplotlib.pyplot as plt\n",
        "from sklearn import metrics\n",
        "\n",
        "# Assuming 'data' is your DataFrame and you've done the previous steps\n",
        "# ... (Your existing code for data loading, preprocessing, and model fitting)\n",
        "\n",
        "# Calculate predictions on the test set\n",
        "pred = lr.predict(X_test)  # Assign the predictions to the variable 'pred'\n",
        "\n",
        "lrscr = metrics.r2_score(Y_test, pred)\n",
        "print('R^2:', metrics.r2_score(Y_test, pred))"
      ]
    },
    {
      "cell_type": "code",
      "execution_count": null,
      "metadata": {
        "colab": {
          "background_save": true
        },
        "id": "dll_9Rhl0o3t"
      },
      "outputs": [],
      "source": [
        "from sklearn.neighbors import KNeighborsRegressor # Use Regressor for continuous target\n",
        "from sklearn.model_selection import train_test_split\n",
        "# from sklearn.datasets import load_iris # Not needed here\n",
        "X_train, X_test, y_train, y_test = train_test_split(X, y, test_size=0.2, random_state=42)\n",
        "knn = KNeighborsRegressor(n_neighbors=5) # Changed to Regressor\n",
        "knn.fit(X_train, y_train)\n",
        "predictions = knn.predict(X_test)"
      ]
    },
    {
      "cell_type": "code",
      "execution_count": null,
      "metadata": {
        "colab": {
          "background_save": true
        },
        "id": "KBP8anNp1nER"
      },
      "outputs": [],
      "source": [
        "from sklearn import metrics\n",
        "knnscr=metrics.r2_score(y_test, predictions)\n",
        "print('R^2:', metrics.r2_score(y_test, predictions))"
      ]
    },
    {
      "cell_type": "code",
      "execution_count": null,
      "metadata": {
        "colab": {
          "background_save": true
        },
        "id": "GxpW-xmh232t"
      },
      "outputs": [],
      "source": [
        "from sklearn.tree import DecisionTreeRegressor\n",
        "from sklearn.model_selection import train_test_split\n",
        "from sklearn.metrics import accuracy_score\n",
        "\n",
        "# Assuming 'X' and 'y' are already defined from your data\n",
        "X_train, X_test, y_train, y_test = train_test_split(X, y, test_size=0.2, random_state=42)\n",
        "\n",
        "# Create Decision Tree Regressor object\n",
        "dtree = DecisionTreeRegressor()\n",
        "\n",
        "# Train the model\n",
        "dtree.fit(X_train, y_train)\n",
        "\n",
        "# Make predictions\n",
        "y_pred = dtree.predict(X_test)\n",
        "\n",
        "# Evaluate the model - Since this is a regression problem, you can't use accuracy_score\n",
        "# Instead, use metrics like Mean Squared Error (MSE) or R-squared\n",
        "from sklearn.metrics import mean_squared_error, r2_score\n",
        "dtreescr=r2_score(y_test, y_pred)\n",
        "print('R-squared:', r2_score(y_test, y_pred))"
      ]
    },
    {
      "cell_type": "code",
      "execution_count": null,
      "metadata": {
        "colab": {
          "background_save": true
        },
        "id": "-d4PYm6j3Zr3"
      },
      "outputs": [],
      "source": [
        "from sklearn.ensemble import RandomForestRegressor\n",
        "from sklearn.model_selection import train_test_split\n",
        "from sklearn.metrics import mean_squared_error, r2_score\n",
        "\n",
        "# Assuming 'X' and 'y' are already defined from your data\n",
        "X_train, X_test, y_train, y_test = train_test_split(X, y, test_size=0.2, random_state=42)\n",
        "\n",
        "# Create Random Forest Regressor object\n",
        "rf_regressor = RandomForestRegressor(n_estimators=100, random_state=42)  # You can adjust n_estimators\n",
        "\n",
        "# Train the model\n",
        "rf_regressor.fit(X_train, y_train)\n",
        "\n",
        "# Make predictions\n",
        "y_pred = rf_regressor.predict(X_test)\n",
        "\n",
        "# Evaluate the model\n",
        "mse = mean_squared_error(y_test, y_pred)\n",
        "rndmfrstr2 = r2_score(y_test, y_pred)\n",
        "\n",
        "print('Mean Squared Error:', mse)\n",
        "print('R-squared:', rndmfrstr2)"
      ]
    },
    {
      "cell_type": "code",
      "execution_count": null,
      "metadata": {
        "colab": {
          "background_save": true
        },
        "id": "6zT2DfjH4mTA"
      },
      "outputs": [],
      "source": [
        "values = {'Linear Regression': lrscr, 'KNN': knnscr, 'Decision Tree': dtreescr, 'Random Forest': rndmfrstr2}\n",
        "\n",
        "closest_to_one = max(values, key=values.get)\n",
        "print(f\"The model with R-squared closest to 1 is: {closest_to_one} with a value of {values[closest_to_one]}\")"
      ]
    },
    {
      "cell_type": "code",
      "execution_count": null,
      "metadata": {
        "colab": {
          "background_save": true
        },
        "id": "RGlBP5FTziP7"
      },
      "outputs": [],
      "source": [
        "import pandas as pd\n",
        "import matplotlib.pyplot as plt\n",
        "cldata = pd.read_csv('/content/cleaned_dataset.csv')\n",
        "category1_followers = cldata.groupby('category_1')['Followers'].sum()\n",
        "category2_followers = cldata.groupby('category_2')['Followers'].sum()\n",
        "\n",
        "fig, axes = plt.subplots(1, 2, figsize=(12, 6))  # 1 row, 2 columns of plots\n",
        "\n",
        "# Category 1 pie chart\n",
        "axes[0].pie(category1_followers, labels=category1_followers.index, autopct='%1.1f%%', startangle=140)\n",
        "axes[0].set_title('Followers by Category 1')\n",
        "axes[0].axis('equal')\n",
        "\n",
        "# Category 2 pie chart\n",
        "axes[1].pie(category2_followers, labels=category2_followers.index, autopct='%1.1f%%', startangle=140)\n",
        "axes[1].set_title('Followers by Category 2')\n",
        "axes[1].axis('equal')\n",
        "\n",
        "plt.tight_layout()  # Adjust spacing between plots\n",
        "plt.show()"
      ]
    },
    {
      "cell_type": "code",
      "execution_count": null,
      "metadata": {
        "colab": {
          "background_save": true
        },
        "id": "dIw9YGPw0HMU"
      },
      "outputs": [],
      "source": [
        "import pandas as pd\n",
        "import matplotlib.pyplot as plt\n",
        "\n",
        "# Read the data (replace with your actual file path)\n",
        "cldata = pd.read_csv('/content/cleaned_dataset.csv')\n",
        "\n",
        "# Group by a relevant column (e.g., 'category_1') and sum followers and engagement\n",
        "grouped_data = cldata.groupby('category_1')[['Followers', 'Authentic engagement\\r\\n']].sum()\n",
        "\n",
        "# Create a figure and axes\n",
        "fig, ax1 = plt.subplots(figsize=(10, 6))\n",
        "\n",
        "# Plot the line chart for followers (left y-axis)\n",
        "ax1.plot(grouped_data.index, grouped_data['Followers'], color='blue', marker='o', label='Followers')\n",
        "ax1.set_xlabel('Category')\n",
        "ax1.set_ylabel('Followers', color='blue')\n",
        "ax1.tick_params(axis='y', labelcolor='blue')\n",
        "\n",
        "# Create a second y-axis for audience engagement\n",
        "ax2 = ax1.twinx()\n",
        "\n",
        "# Plot the clustered column chart for engagement (right y-axis)\n",
        "ax2.bar(grouped_data.index, grouped_data['Authentic engagement\\r\\n'], color='green', alpha=0.7, label='Engagement')\n",
        "ax2.set_ylabel('Authentic Engagement', color='green')\n",
        "ax2.tick_params(axis='y', labelcolor='green')\n",
        "\n",
        "# Add a legend\n",
        "lines, labels = ax1.get_legend_handles_labels()\n",
        "lines2, labels2 = ax2.get_legend_handles_labels()\n",
        "ax2.legend(lines + lines2, labels + labels2, loc='upper left')\n",
        "\n",
        "# Set the title\n",
        "plt.title('Followers and Audience Engagement by Category')\n",
        "\n",
        "# Rotate x-axis labels if needed\n",
        "plt.xticks(rotation=45, ha='right')\n",
        "\n",
        "plt.tight_layout()\n",
        "plt.show()"
      ]
    },
    {
      "cell_type": "markdown",
      "metadata": {
        "id": "xaQxgFBXyOzR"
      },
      "source": [
        "outliers\n"
      ]
    },
    {
      "cell_type": "code",
      "execution_count": null,
      "metadata": {
        "colab": {
          "background_save": true,
          "base_uri": "https://localhost:8080/",
          "height": 38
        },
        "id": "I3Px1Hk_23ZV",
        "outputId": "773dd564-d1f1-4864-aba0-d983cb74fac0"
      },
      "outputs": [
        {
          "data": {
            "text/html": [
              "\n",
              "     <input type=\"file\" id=\"files-f6bc9e0e-92f6-4e3d-9e4a-a4eab6df4d62\" name=\"files[]\" multiple disabled\n",
              "        style=\"border:none\" />\n",
              "     <output id=\"result-f6bc9e0e-92f6-4e3d-9e4a-a4eab6df4d62\">\n",
              "      Upload widget is only available when the cell has been executed in the\n",
              "      current browser session. Please rerun this cell to enable.\n",
              "      </output>\n",
              "      <script>// Copyright 2017 Google LLC\n",
              "//\n",
              "// Licensed under the Apache License, Version 2.0 (the \"License\");\n",
              "// you may not use this file except in compliance with the License.\n",
              "// You may obtain a copy of the License at\n",
              "//\n",
              "//      http://www.apache.org/licenses/LICENSE-2.0\n",
              "//\n",
              "// Unless required by applicable law or agreed to in writing, software\n",
              "// distributed under the License is distributed on an \"AS IS\" BASIS,\n",
              "// WITHOUT WARRANTIES OR CONDITIONS OF ANY KIND, either express or implied.\n",
              "// See the License for the specific language governing permissions and\n",
              "// limitations under the License.\n",
              "\n",
              "/**\n",
              " * @fileoverview Helpers for google.colab Python module.\n",
              " */\n",
              "(function(scope) {\n",
              "function span(text, styleAttributes = {}) {\n",
              "  const element = document.createElement('span');\n",
              "  element.textContent = text;\n",
              "  for (const key of Object.keys(styleAttributes)) {\n",
              "    element.style[key] = styleAttributes[key];\n",
              "  }\n",
              "  return element;\n",
              "}\n",
              "\n",
              "// Max number of bytes which will be uploaded at a time.\n",
              "const MAX_PAYLOAD_SIZE = 100 * 1024;\n",
              "\n",
              "function _uploadFiles(inputId, outputId) {\n",
              "  const steps = uploadFilesStep(inputId, outputId);\n",
              "  const outputElement = document.getElementById(outputId);\n",
              "  // Cache steps on the outputElement to make it available for the next call\n",
              "  // to uploadFilesContinue from Python.\n",
              "  outputElement.steps = steps;\n",
              "\n",
              "  return _uploadFilesContinue(outputId);\n",
              "}\n",
              "\n",
              "// This is roughly an async generator (not supported in the browser yet),\n",
              "// where there are multiple asynchronous steps and the Python side is going\n",
              "// to poll for completion of each step.\n",
              "// This uses a Promise to block the python side on completion of each step,\n",
              "// then passes the result of the previous step as the input to the next step.\n",
              "function _uploadFilesContinue(outputId) {\n",
              "  const outputElement = document.getElementById(outputId);\n",
              "  const steps = outputElement.steps;\n",
              "\n",
              "  const next = steps.next(outputElement.lastPromiseValue);\n",
              "  return Promise.resolve(next.value.promise).then((value) => {\n",
              "    // Cache the last promise value to make it available to the next\n",
              "    // step of the generator.\n",
              "    outputElement.lastPromiseValue = value;\n",
              "    return next.value.response;\n",
              "  });\n",
              "}\n",
              "\n",
              "/**\n",
              " * Generator function which is called between each async step of the upload\n",
              " * process.\n",
              " * @param {string} inputId Element ID of the input file picker element.\n",
              " * @param {string} outputId Element ID of the output display.\n",
              " * @return {!Iterable<!Object>} Iterable of next steps.\n",
              " */\n",
              "function* uploadFilesStep(inputId, outputId) {\n",
              "  const inputElement = document.getElementById(inputId);\n",
              "  inputElement.disabled = false;\n",
              "\n",
              "  const outputElement = document.getElementById(outputId);\n",
              "  outputElement.innerHTML = '';\n",
              "\n",
              "  const pickedPromise = new Promise((resolve) => {\n",
              "    inputElement.addEventListener('change', (e) => {\n",
              "      resolve(e.target.files);\n",
              "    });\n",
              "  });\n",
              "\n",
              "  const cancel = document.createElement('button');\n",
              "  inputElement.parentElement.appendChild(cancel);\n",
              "  cancel.textContent = 'Cancel upload';\n",
              "  const cancelPromise = new Promise((resolve) => {\n",
              "    cancel.onclick = () => {\n",
              "      resolve(null);\n",
              "    };\n",
              "  });\n",
              "\n",
              "  // Wait for the user to pick the files.\n",
              "  const files = yield {\n",
              "    promise: Promise.race([pickedPromise, cancelPromise]),\n",
              "    response: {\n",
              "      action: 'starting',\n",
              "    }\n",
              "  };\n",
              "\n",
              "  cancel.remove();\n",
              "\n",
              "  // Disable the input element since further picks are not allowed.\n",
              "  inputElement.disabled = true;\n",
              "\n",
              "  if (!files) {\n",
              "    return {\n",
              "      response: {\n",
              "        action: 'complete',\n",
              "      }\n",
              "    };\n",
              "  }\n",
              "\n",
              "  for (const file of files) {\n",
              "    const li = document.createElement('li');\n",
              "    li.append(span(file.name, {fontWeight: 'bold'}));\n",
              "    li.append(span(\n",
              "        `(${file.type || 'n/a'}) - ${file.size} bytes, ` +\n",
              "        `last modified: ${\n",
              "            file.lastModifiedDate ? file.lastModifiedDate.toLocaleDateString() :\n",
              "                                    'n/a'} - `));\n",
              "    const percent = span('0% done');\n",
              "    li.appendChild(percent);\n",
              "\n",
              "    outputElement.appendChild(li);\n",
              "\n",
              "    const fileDataPromise = new Promise((resolve) => {\n",
              "      const reader = new FileReader();\n",
              "      reader.onload = (e) => {\n",
              "        resolve(e.target.result);\n",
              "      };\n",
              "      reader.readAsArrayBuffer(file);\n",
              "    });\n",
              "    // Wait for the data to be ready.\n",
              "    let fileData = yield {\n",
              "      promise: fileDataPromise,\n",
              "      response: {\n",
              "        action: 'continue',\n",
              "      }\n",
              "    };\n",
              "\n",
              "    // Use a chunked sending to avoid message size limits. See b/62115660.\n",
              "    let position = 0;\n",
              "    do {\n",
              "      const length = Math.min(fileData.byteLength - position, MAX_PAYLOAD_SIZE);\n",
              "      const chunk = new Uint8Array(fileData, position, length);\n",
              "      position += length;\n",
              "\n",
              "      const base64 = btoa(String.fromCharCode.apply(null, chunk));\n",
              "      yield {\n",
              "        response: {\n",
              "          action: 'append',\n",
              "          file: file.name,\n",
              "          data: base64,\n",
              "        },\n",
              "      };\n",
              "\n",
              "      let percentDone = fileData.byteLength === 0 ?\n",
              "          100 :\n",
              "          Math.round((position / fileData.byteLength) * 100);\n",
              "      percent.textContent = `${percentDone}% done`;\n",
              "\n",
              "    } while (position < fileData.byteLength);\n",
              "  }\n",
              "\n",
              "  // All done.\n",
              "  yield {\n",
              "    response: {\n",
              "      action: 'complete',\n",
              "    }\n",
              "  };\n",
              "}\n",
              "\n",
              "scope.google = scope.google || {};\n",
              "scope.google.colab = scope.google.colab || {};\n",
              "scope.google.colab._files = {\n",
              "  _uploadFiles,\n",
              "  _uploadFilesContinue,\n",
              "};\n",
              "})(self);\n",
              "</script> "
            ],
            "text/plain": [
              "<IPython.core.display.HTML object>"
            ]
          },
          "metadata": {},
          "output_type": "display_data"
        },
        {
          "ename": "TypeError",
          "evalue": "'NoneType' object is not subscriptable",
          "output_type": "error",
          "traceback": [
            "\u001b[0;31m---------------------------------------------------------------------------\u001b[0m",
            "\u001b[0;31mTypeError\u001b[0m                                 Traceback (most recent call last)",
            "\u001b[0;32m<ipython-input-1-21dc3c638f66>\u001b[0m in \u001b[0;36m<cell line: 2>\u001b[0;34m()\u001b[0m\n\u001b[1;32m      1\u001b[0m \u001b[0;32mfrom\u001b[0m \u001b[0mgoogle\u001b[0m\u001b[0;34m.\u001b[0m\u001b[0mcolab\u001b[0m \u001b[0;32mimport\u001b[0m \u001b[0mfiles\u001b[0m\u001b[0;34m\u001b[0m\u001b[0;34m\u001b[0m\u001b[0m\n\u001b[0;32m----> 2\u001b[0;31m \u001b[0muploaded\u001b[0m \u001b[0;34m=\u001b[0m \u001b[0mfiles\u001b[0m\u001b[0;34m.\u001b[0m\u001b[0mupload\u001b[0m\u001b[0;34m(\u001b[0m\u001b[0;34m)\u001b[0m\u001b[0;34m\u001b[0m\u001b[0;34m\u001b[0m\u001b[0m\n\u001b[0m",
            "\u001b[0;32m/usr/local/lib/python3.10/dist-packages/google/colab/files.py\u001b[0m in \u001b[0;36mupload\u001b[0;34m()\u001b[0m\n\u001b[1;32m     67\u001b[0m   \"\"\"\n\u001b[1;32m     68\u001b[0m \u001b[0;34m\u001b[0m\u001b[0m\n\u001b[0;32m---> 69\u001b[0;31m   \u001b[0muploaded_files\u001b[0m \u001b[0;34m=\u001b[0m \u001b[0m_upload_files\u001b[0m\u001b[0;34m(\u001b[0m\u001b[0mmultiple\u001b[0m\u001b[0;34m=\u001b[0m\u001b[0;32mTrue\u001b[0m\u001b[0;34m)\u001b[0m\u001b[0;34m\u001b[0m\u001b[0;34m\u001b[0m\u001b[0m\n\u001b[0m\u001b[1;32m     70\u001b[0m   \u001b[0;31m# Mapping from original filename to filename as saved locally.\u001b[0m\u001b[0;34m\u001b[0m\u001b[0;34m\u001b[0m\u001b[0m\n\u001b[1;32m     71\u001b[0m   \u001b[0mlocal_filenames\u001b[0m \u001b[0;34m=\u001b[0m \u001b[0mdict\u001b[0m\u001b[0;34m(\u001b[0m\u001b[0;34m)\u001b[0m\u001b[0;34m\u001b[0m\u001b[0;34m\u001b[0m\u001b[0m\n",
            "\u001b[0;32m/usr/local/lib/python3.10/dist-packages/google/colab/files.py\u001b[0m in \u001b[0;36m_upload_files\u001b[0;34m(multiple)\u001b[0m\n\u001b[1;32m    161\u001b[0m   \u001b[0mfiles\u001b[0m \u001b[0;34m=\u001b[0m \u001b[0m_collections\u001b[0m\u001b[0;34m.\u001b[0m\u001b[0mdefaultdict\u001b[0m\u001b[0;34m(\u001b[0m\u001b[0mbytes\u001b[0m\u001b[0;34m)\u001b[0m\u001b[0;34m\u001b[0m\u001b[0;34m\u001b[0m\u001b[0m\n\u001b[1;32m    162\u001b[0m \u001b[0;34m\u001b[0m\u001b[0m\n\u001b[0;32m--> 163\u001b[0;31m   \u001b[0;32mwhile\u001b[0m \u001b[0mresult\u001b[0m\u001b[0;34m[\u001b[0m\u001b[0;34m'action'\u001b[0m\u001b[0;34m]\u001b[0m \u001b[0;34m!=\u001b[0m \u001b[0;34m'complete'\u001b[0m\u001b[0;34m:\u001b[0m\u001b[0;34m\u001b[0m\u001b[0;34m\u001b[0m\u001b[0m\n\u001b[0m\u001b[1;32m    164\u001b[0m     result = _output.eval_js(\n\u001b[1;32m    165\u001b[0m         'google.colab._files._uploadFilesContinue(\"{output_id}\")'.format(\n",
            "\u001b[0;31mTypeError\u001b[0m: 'NoneType' object is not subscriptable"
          ]
        }
      ],
      "source": []
    }
  ],
  "metadata": {
    "colab": {
      "provenance": [],
      "authorship_tag": "ABX9TyODWROy8+WW30LnuqQI1Qir",
      "include_colab_link": true
    },
    "kernelspec": {
      "display_name": "Python 3",
      "name": "python3"
    },
    "language_info": {
      "name": "python"
    }
  },
  "nbformat": 4,
  "nbformat_minor": 0
}