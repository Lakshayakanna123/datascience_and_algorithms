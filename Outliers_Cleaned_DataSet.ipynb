{
  "nbformat": 4,
  "nbformat_minor": 0,
  "metadata": {
    "colab": {
      "provenance": [],
      "authorship_tag": "ABX9TyNru01rqKL7xV8eaFTFAKKy",
      "include_colab_link": true
    },
    "kernelspec": {
      "name": "python3",
      "display_name": "Python 3"
    },
    "language_info": {
      "name": "python"
    }
  },
  "cells": [
    {
      "cell_type": "markdown",
      "metadata": {
        "id": "view-in-github",
        "colab_type": "text"
      },
      "source": [
        "<a href=\"https://colab.research.google.com/github/Lakshayakanna123/datascience_and_algorithms/blob/main/Outliers_Cleaned_DataSet.ipynb\" target=\"_parent\"><img src=\"https://colab.research.google.com/assets/colab-badge.svg\" alt=\"Open In Colab\"/></a>"
      ]
    },
    {
      "cell_type": "markdown",
      "source": [
        "OUTLIERS"
      ],
      "metadata": {
        "id": "ZR-lIl5tympk"
      }
    },
    {
      "cell_type": "code",
      "execution_count": null,
      "metadata": {
        "colab": {
          "base_uri": "https://localhost:8080/",
          "height": 73
        },
        "id": "N1nhcAJIylyF",
        "outputId": "d3fba5b0-218b-4f30-8af7-1254fd96395b"
      },
      "outputs": [
        {
          "output_type": "display_data",
          "data": {
            "text/plain": [
              "<IPython.core.display.HTML object>"
            ],
            "text/html": [
              "\n",
              "     <input type=\"file\" id=\"files-5b96af71-93b7-48e7-89cd-2f914c4be205\" name=\"files[]\" multiple disabled\n",
              "        style=\"border:none\" />\n",
              "     <output id=\"result-5b96af71-93b7-48e7-89cd-2f914c4be205\">\n",
              "      Upload widget is only available when the cell has been executed in the\n",
              "      current browser session. Please rerun this cell to enable.\n",
              "      </output>\n",
              "      <script>// Copyright 2017 Google LLC\n",
              "//\n",
              "// Licensed under the Apache License, Version 2.0 (the \"License\");\n",
              "// you may not use this file except in compliance with the License.\n",
              "// You may obtain a copy of the License at\n",
              "//\n",
              "//      http://www.apache.org/licenses/LICENSE-2.0\n",
              "//\n",
              "// Unless required by applicable law or agreed to in writing, software\n",
              "// distributed under the License is distributed on an \"AS IS\" BASIS,\n",
              "// WITHOUT WARRANTIES OR CONDITIONS OF ANY KIND, either express or implied.\n",
              "// See the License for the specific language governing permissions and\n",
              "// limitations under the License.\n",
              "\n",
              "/**\n",
              " * @fileoverview Helpers for google.colab Python module.\n",
              " */\n",
              "(function(scope) {\n",
              "function span(text, styleAttributes = {}) {\n",
              "  const element = document.createElement('span');\n",
              "  element.textContent = text;\n",
              "  for (const key of Object.keys(styleAttributes)) {\n",
              "    element.style[key] = styleAttributes[key];\n",
              "  }\n",
              "  return element;\n",
              "}\n",
              "\n",
              "// Max number of bytes which will be uploaded at a time.\n",
              "const MAX_PAYLOAD_SIZE = 100 * 1024;\n",
              "\n",
              "function _uploadFiles(inputId, outputId) {\n",
              "  const steps = uploadFilesStep(inputId, outputId);\n",
              "  const outputElement = document.getElementById(outputId);\n",
              "  // Cache steps on the outputElement to make it available for the next call\n",
              "  // to uploadFilesContinue from Python.\n",
              "  outputElement.steps = steps;\n",
              "\n",
              "  return _uploadFilesContinue(outputId);\n",
              "}\n",
              "\n",
              "// This is roughly an async generator (not supported in the browser yet),\n",
              "// where there are multiple asynchronous steps and the Python side is going\n",
              "// to poll for completion of each step.\n",
              "// This uses a Promise to block the python side on completion of each step,\n",
              "// then passes the result of the previous step as the input to the next step.\n",
              "function _uploadFilesContinue(outputId) {\n",
              "  const outputElement = document.getElementById(outputId);\n",
              "  const steps = outputElement.steps;\n",
              "\n",
              "  const next = steps.next(outputElement.lastPromiseValue);\n",
              "  return Promise.resolve(next.value.promise).then((value) => {\n",
              "    // Cache the last promise value to make it available to the next\n",
              "    // step of the generator.\n",
              "    outputElement.lastPromiseValue = value;\n",
              "    return next.value.response;\n",
              "  });\n",
              "}\n",
              "\n",
              "/**\n",
              " * Generator function which is called between each async step of the upload\n",
              " * process.\n",
              " * @param {string} inputId Element ID of the input file picker element.\n",
              " * @param {string} outputId Element ID of the output display.\n",
              " * @return {!Iterable<!Object>} Iterable of next steps.\n",
              " */\n",
              "function* uploadFilesStep(inputId, outputId) {\n",
              "  const inputElement = document.getElementById(inputId);\n",
              "  inputElement.disabled = false;\n",
              "\n",
              "  const outputElement = document.getElementById(outputId);\n",
              "  outputElement.innerHTML = '';\n",
              "\n",
              "  const pickedPromise = new Promise((resolve) => {\n",
              "    inputElement.addEventListener('change', (e) => {\n",
              "      resolve(e.target.files);\n",
              "    });\n",
              "  });\n",
              "\n",
              "  const cancel = document.createElement('button');\n",
              "  inputElement.parentElement.appendChild(cancel);\n",
              "  cancel.textContent = 'Cancel upload';\n",
              "  const cancelPromise = new Promise((resolve) => {\n",
              "    cancel.onclick = () => {\n",
              "      resolve(null);\n",
              "    };\n",
              "  });\n",
              "\n",
              "  // Wait for the user to pick the files.\n",
              "  const files = yield {\n",
              "    promise: Promise.race([pickedPromise, cancelPromise]),\n",
              "    response: {\n",
              "      action: 'starting',\n",
              "    }\n",
              "  };\n",
              "\n",
              "  cancel.remove();\n",
              "\n",
              "  // Disable the input element since further picks are not allowed.\n",
              "  inputElement.disabled = true;\n",
              "\n",
              "  if (!files) {\n",
              "    return {\n",
              "      response: {\n",
              "        action: 'complete',\n",
              "      }\n",
              "    };\n",
              "  }\n",
              "\n",
              "  for (const file of files) {\n",
              "    const li = document.createElement('li');\n",
              "    li.append(span(file.name, {fontWeight: 'bold'}));\n",
              "    li.append(span(\n",
              "        `(${file.type || 'n/a'}) - ${file.size} bytes, ` +\n",
              "        `last modified: ${\n",
              "            file.lastModifiedDate ? file.lastModifiedDate.toLocaleDateString() :\n",
              "                                    'n/a'} - `));\n",
              "    const percent = span('0% done');\n",
              "    li.appendChild(percent);\n",
              "\n",
              "    outputElement.appendChild(li);\n",
              "\n",
              "    const fileDataPromise = new Promise((resolve) => {\n",
              "      const reader = new FileReader();\n",
              "      reader.onload = (e) => {\n",
              "        resolve(e.target.result);\n",
              "      };\n",
              "      reader.readAsArrayBuffer(file);\n",
              "    });\n",
              "    // Wait for the data to be ready.\n",
              "    let fileData = yield {\n",
              "      promise: fileDataPromise,\n",
              "      response: {\n",
              "        action: 'continue',\n",
              "      }\n",
              "    };\n",
              "\n",
              "    // Use a chunked sending to avoid message size limits. See b/62115660.\n",
              "    let position = 0;\n",
              "    do {\n",
              "      const length = Math.min(fileData.byteLength - position, MAX_PAYLOAD_SIZE);\n",
              "      const chunk = new Uint8Array(fileData, position, length);\n",
              "      position += length;\n",
              "\n",
              "      const base64 = btoa(String.fromCharCode.apply(null, chunk));\n",
              "      yield {\n",
              "        response: {\n",
              "          action: 'append',\n",
              "          file: file.name,\n",
              "          data: base64,\n",
              "        },\n",
              "      };\n",
              "\n",
              "      let percentDone = fileData.byteLength === 0 ?\n",
              "          100 :\n",
              "          Math.round((position / fileData.byteLength) * 100);\n",
              "      percent.textContent = `${percentDone}% done`;\n",
              "\n",
              "    } while (position < fileData.byteLength);\n",
              "  }\n",
              "\n",
              "  // All done.\n",
              "  yield {\n",
              "    response: {\n",
              "      action: 'complete',\n",
              "    }\n",
              "  };\n",
              "}\n",
              "\n",
              "scope.google = scope.google || {};\n",
              "scope.google.colab = scope.google.colab || {};\n",
              "scope.google.colab._files = {\n",
              "  _uploadFiles,\n",
              "  _uploadFilesContinue,\n",
              "};\n",
              "})(self);\n",
              "</script> "
            ]
          },
          "metadata": {}
        },
        {
          "output_type": "stream",
          "name": "stdout",
          "text": [
            "Saving cleaned_dataset.csv to cleaned_dataset.csv\n"
          ]
        }
      ],
      "source": [
        "from google.colab import files\n",
        "uploaded = files.upload()"
      ]
    },
    {
      "cell_type": "code",
      "source": [
        "import pandas as pd\n",
        "\n",
        "# Load the dataset\n",
        "\n",
        "data = pd.read_csv('cleaned_dataset.csv')\n",
        "\n",
        "# Display the first few rows of the dataset\n",
        "print(data.head())"
      ],
      "metadata": {
        "colab": {
          "base_uri": "https://localhost:8080/"
        },
        "id": "_0UCST-zysrh",
        "outputId": "f5f61a98-8553-4fad-ff76-9840f50008a9"
      },
      "execution_count": null,
      "outputs": [
        {
          "output_type": "stream",
          "name": "stdout",
          "text": [
            "  Influencer insta name instagram name          category_1 category_2  \\\n",
            "0                   433            433  Sports with a ball    Unknown   \n",
            "1          __youngbae__        TAEYANG               Music    Unknown   \n",
            "2           _agentgirl_  НАСТЯ ИВЛЕЕВА               Shows    Unknown   \n",
            "3           _imyour_joy            Joy           Lifestyle    Unknown   \n",
            "4         _jeongjaehyun        Jaehyun             Unknown    Unknown   \n",
            "\n",
            "    Followers Audience country(mostly)  Authentic engagement\\r\\n  \\\n",
            "0  48500000.0                    Spain                  383100.0   \n",
            "1  12700000.0                Indonesia                  478000.0   \n",
            "2  18800000.0                   Russia                  310800.0   \n",
            "3  13500000.0                Indonesia                 1100000.0   \n",
            "4  11100000.0                Indonesia                 2500000.0   \n",
            "\n",
            "  Engagement avg\\r\\n  \n",
            "0               637K  \n",
            "1             542.3K  \n",
            "2             377.9K  \n",
            "3               1.4M  \n",
            "4               3.1M  \n"
          ]
        }
      ]
    },
    {
      "cell_type": "code",
      "source": [
        "data_description = data.describe()\n",
        "print(data_description)"
      ],
      "metadata": {
        "colab": {
          "base_uri": "https://localhost:8080/"
        },
        "id": "BUB4eZtmzE7i",
        "outputId": "535627ed-69c1-4e12-c70d-301699290aee"
      },
      "execution_count": null,
      "outputs": [
        {
          "output_type": "stream",
          "name": "stdout",
          "text": [
            "          Followers  Authentic engagement\\r\\n\n",
            "count  1.000000e+03              1.000000e+03\n",
            "mean   2.571620e+07              6.807700e+05\n",
            "std    4.102903e+07              1.190369e+06\n",
            "min    2.600000e+06              0.000000e+00\n",
            "25%    9.000000e+06              2.119000e+05\n",
            "50%    1.455000e+07              3.715000e+05\n",
            "75%    2.652500e+07              6.845000e+05\n",
            "max    4.872000e+08              1.270000e+07\n"
          ]
        }
      ]
    },
    {
      "cell_type": "code",
      "source": [
        "import matplotlib.pyplot as plt\n",
        "import seaborn as sns\n",
        "\n",
        "# Set the size of the visualization\n",
        "plt.figure(figsize=(15, 10))\n",
        "\n",
        "# List of numerical columns to plot - replace with your actual column names!\n",
        "numerical_columns = ['Followers','Authentic engagement\\r\\n']\n",
        "\n",
        "# Create box plots for each numerical column\n",
        "for i, column in enumerate(numerical_columns, 1):\n",
        "    plt.subplot(3, 3, i)\n",
        "    sns.boxplot(data[column])\n",
        "    plt.title(column)\n",
        "\n",
        "plt.tight_layout()\n",
        "plt.show()\n"
      ],
      "metadata": {
        "colab": {
          "base_uri": "https://localhost:8080/",
          "height": 449
        },
        "id": "RIAQIPAGzNyu",
        "outputId": "fec7fa00-6ff2-4d82-f6dd-598e91e35632"
      },
      "execution_count": null,
      "outputs": [
        {
          "output_type": "stream",
          "name": "stderr",
          "text": [
            "<ipython-input-8-9de27779925e>:16: UserWarning: Glyph 13 (\r) missing from current font.\n",
            "  plt.tight_layout()\n",
            ") missing from current font.\n",
            "  fig.canvas.print_figure(bytes_io, **kw)\n"
          ]
        },
        {
          "output_type": "display_data",
          "data": {
            "text/plain": [
              "<Figure size 1500x1000 with 2 Axes>"
            ],
            "image/png": "[encoded data removed]"
          },
          "metadata": {}
        }
      ]
    },
    {
      "cell_type": "markdown",
      "source": [
        "IQR"
      ],
      "metadata": {
        "id": "VnihSJMB2Oh0"
      }
    },
    {
      "cell_type": "code",
      "source": [
        "# Define a function to remove outliers using IQR\n",
        "def remove_outliers(df, column):\n",
        "    Q1 = df[column].quantile(0.25)\n",
        "    Q3 = df[column].quantile(0.75)\n",
        "    IQR = Q3 - Q1\n",
        "    lower_bound = Q1 - 1.5 * IQR\n",
        "    upper_bound = Q3 + 1.5 * IQR\n",
        "    return df[(df[column] >= lower_bound) & (df[column] <= upper_bound)]\n",
        "\n",
        "# Apply the function to each numerical column\n",
        "for column in numerical_columns:\n",
        "    data = remove_outliers(data, column)\n",
        "\n",
        "# Display the dataset after removing outliers\n",
        "print(data.describe())"
      ],
      "metadata": {
        "colab": {
          "base_uri": "https://localhost:8080/"
        },
        "id": "JmI2vY9Azp8e",
        "outputId": "6a307b98-38bc-4e25-dc63-2ab4c1bf2cf3"
      },
      "execution_count": null,
      "outputs": [
        {
          "output_type": "stream",
          "name": "stdout",
          "text": [
            "          Followers  Authentic engagement\\r\\n\n",
            "count  8.390000e+02              8.390000e+02\n",
            "mean   1.650846e+07              4.038629e+05\n",
            "std    1.101213e+07              2.735554e+05\n",
            "min    2.600000e+06              0.000000e+00\n",
            "25%    8.400000e+06              1.978500e+05\n",
            "50%    1.330000e+07              3.329000e+05\n",
            "75%    2.145000e+07              5.407000e+05\n",
            "max    5.280000e+07              1.200000e+06\n"
          ]
        }
      ]
    },
    {
      "cell_type": "code",
      "source": [
        "# Define a function to cap outliers\n",
        "def cap_outliers(df, column):\n",
        "    lower_bound = df[column].quantile(0.01)\n",
        "    upper_bound = df[column].quantile(0.99)\n",
        "    df[column] = df[column].apply(lambda x: lower_bound if x < lower_bound else upper_bound if x > upper_bound else x)\n",
        "    return df\n",
        "\n",
        "# Apply the function to each numerical column\n",
        "for column in numerical_columns:\n",
        "    data = cap_outliers(data, column)\n",
        "\n",
        "# Display the dataset after capping outliers\n",
        "print(data.describe())\n"
      ],
      "metadata": {
        "colab": {
          "base_uri": "https://localhost:8080/"
        },
        "id": "I6BpUynazukO",
        "outputId": "a128daa3-75e1-4371-cbec-5685b7afc301"
      },
      "execution_count": null,
      "outputs": [
        {
          "output_type": "stream",
          "name": "stdout",
          "text": [
            "          Followers  Authentic engagement\\r\\n\n",
            "count  8.390000e+02              8.390000e+02\n",
            "mean   1.649431e+07              4.040513e+05\n",
            "std    1.095582e+07              2.732829e+05\n",
            "min    3.300000e+06              1.755600e+04\n",
            "25%    8.400000e+06              1.978500e+05\n",
            "50%    1.330000e+07              3.329000e+05\n",
            "75%    2.145000e+07              5.407000e+05\n",
            "max    5.025800e+07              1.200000e+06\n"
          ]
        }
      ]
    },
    {
      "cell_type": "code",
      "source": [
        "import numpy as np\n",
        "\n",
        "# Apply log transformation to each numerical column\n",
        "for column in numerical_columns:\n",
        "    data[column] = np.log1p(data[column])\n",
        "\n",
        "# Display the dataset after transformation\n",
        "print(data.describe())\n"
      ],
      "metadata": {
        "colab": {
          "base_uri": "https://localhost:8080/"
        },
        "id": "g7Yjm4xdzyW2",
        "outputId": "fd8039fd-c382-43cc-ba3e-da6ce9acc75f"
      },
      "execution_count": null,
      "outputs": [
        {
          "output_type": "stream",
          "name": "stdout",
          "text": [
            "        Followers  Authentic engagement\\r\\n\n",
            "count  839.000000                839.000000\n",
            "mean    16.414024                 12.661551\n",
            "std      0.644394                  0.757827\n",
            "min     15.009433                  9.773208\n",
            "25%     15.943742                 12.195258\n",
            "50%     16.403275                 12.715600\n",
            "75%     16.881233                 13.200621\n",
            "max     17.732680                 13.997833\n"
          ]
        }
      ]
    },
    {
      "cell_type": "markdown",
      "source": [
        "z-score"
      ],
      "metadata": {
        "id": "EGSv3HqIz8rl"
      }
    },
    {
      "cell_type": "code",
      "source": [
        "import pandas as pd\n",
        "mean_followers = data['Followers'].mean()\n",
        "std_followers = data['Followers'].std()\n",
        "\n",
        "mean_engagement = data['Authentic engagement\\r\\n'].mean()\n",
        "std_engagement = data['Authentic engagement\\r\\n'].std()"
      ],
      "metadata": {
        "id": "ilMapWlNz_zX"
      },
      "execution_count": null,
      "outputs": []
    },
    {
      "cell_type": "code",
      "source": [
        "data['followers_z'] = (data['Followers'] - mean_followers) / std_followers\n",
        "data['engagement_z'] = (data['Authentic engagement\\r\\n'] - mean_engagement) / std_engagement"
      ],
      "metadata": {
        "id": "0uf6VdMM02th"
      },
      "execution_count": null,
      "outputs": []
    },
    {
      "cell_type": "code",
      "source": [
        "print(data[['followers_z', 'engagement_z']])"
      ],
      "metadata": {
        "colab": {
          "base_uri": "https://localhost:8080/"
        },
        "id": "6tPZOW260683",
        "outputId": "bff03bd8-96b3-44ff-8fa3-fff1ecd6c472"
      },
      "execution_count": null,
      "outputs": [
        {
          "output_type": "stream",
          "name": "stdout",
          "text": [
            "     followers_z  engagement_z\n",
            "0       1.991096      0.256658\n",
            "1      -0.088318      0.548696\n",
            "2       0.520401     -0.019323\n",
            "3       0.006481      1.648491\n",
            "5      -0.825040      1.405649\n",
            "..           ...           ...\n",
            "993     0.840044     -0.166017\n",
            "994     0.308457     -0.784791\n",
            "996     1.306506      0.724209\n",
            "998    -0.767200      0.810730\n",
            "999    -0.555256     -0.544839\n",
            "\n",
            "[839 rows x 2 columns]\n"
          ]
        }
      ]
    },
    {
      "cell_type": "code",
      "source": [
        "plt.figure(figsize=(10, 6))\n",
        "\n",
        "plt.subplot(1, 2, 1)\n",
        "plt.boxplot(data['followers_z'])\n",
        "plt.title(\"Z-Score of Followers\")\n",
        "\n",
        "plt.subplot(1, 2, 2)\n",
        "plt.boxplot(data['engagement_z'])\n",
        "plt.title(\"Z-Score of Engagement\")\n",
        "\n",
        "plt.show()"
      ],
      "metadata": {
        "colab": {
          "base_uri": "https://localhost:8080/",
          "height": 545
        },
        "id": "hdUsFRUm4GQJ",
        "outputId": "6d05b02f-aecd-4649-bbec-1092466bd669"
      },
      "execution_count": null,
      "outputs": [
        {
          "output_type": "display_data",
          "data": {
            "text/plain": [
              "<Figure size 1000x600 with 2 Axes>"
            ],
            "image/png": "[encoded data removed]"
          },
          "metadata": {}
        }
      ]
    }
  ]
}